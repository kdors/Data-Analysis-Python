{
 "cells": [
  {
   "cell_type": "markdown",
   "metadata": {},
   "source": [
    "## Behavioral Risk Factors - Vision and Eye Health Surveillance\n",
    "[Data Source](https://chronicdata.cdc.gov/Vision-Eye-Health/Behavioral-Risk-Factors-Vision-and-Eye-Health-Surv/vkwg-yswv)\n",
    "\n",
    "### Loading and Understanding Data\n",
    "\n",
    "The data I will be exploring is a de-identified dataset provided by the CDC that gives the prevalence of people who are blind or who still have difficulty seeing even when wearing glasses on the basis of certain characteristics for the years 2013-2018. For the rest of the analysis, I will denote this as being \"blind/near-blind\" for the sake of brevity. Each row in this dataset is a different stratum-specific measurement of prevalence, where the strata are age, gender, race/ethnicity, and risk factor (diabetes, smoking).\n",
    "\n",
    "I would like to see if there are any trends in the data relating to the characteristics listed above, as well as if there are any trends over time."
   ]
  },
  {
   "cell_type": "code",
   "execution_count": 45,
   "metadata": {},
   "outputs": [],
   "source": [
    "import pandas as pd\n",
    "import numpy as np\n",
    "import matplotlib.pyplot as plt\n",
    "%matplotlib inline\n",
    "import seaborn as sns"
   ]
  },
  {
   "cell_type": "code",
   "execution_count": 69,
   "metadata": {},
   "outputs": [
    {
     "data": {
      "text/html": [
       "<div>\n",
       "<style scoped>\n",
       "    .dataframe tbody tr th:only-of-type {\n",
       "        vertical-align: middle;\n",
       "    }\n",
       "\n",
       "    .dataframe tbody tr th {\n",
       "        vertical-align: top;\n",
       "    }\n",
       "\n",
       "    .dataframe thead th {\n",
       "        text-align: right;\n",
       "    }\n",
       "</style>\n",
       "<table border=\"1\" class=\"dataframe\">\n",
       "  <thead>\n",
       "    <tr style=\"text-align: right;\">\n",
       "      <th></th>\n",
       "      <th>YearStart</th>\n",
       "      <th>YearEnd</th>\n",
       "      <th>LocationAbbr</th>\n",
       "      <th>LocationDesc</th>\n",
       "      <th>DataSource</th>\n",
       "      <th>Topic</th>\n",
       "      <th>Category</th>\n",
       "      <th>Question</th>\n",
       "      <th>Response</th>\n",
       "      <th>Age</th>\n",
       "      <th>...</th>\n",
       "      <th>CategoryID</th>\n",
       "      <th>QuestionID</th>\n",
       "      <th>ResponseID</th>\n",
       "      <th>DataValueTypeID</th>\n",
       "      <th>AgeID</th>\n",
       "      <th>GenderID</th>\n",
       "      <th>RaceEthnicityID</th>\n",
       "      <th>RiskFactorID</th>\n",
       "      <th>RiskFactorResponseID</th>\n",
       "      <th>Geolocation</th>\n",
       "    </tr>\n",
       "  </thead>\n",
       "  <tbody>\n",
       "    <tr>\n",
       "      <th>0</th>\n",
       "      <td>2013</td>\n",
       "      <td>2013</td>\n",
       "      <td>US</td>\n",
       "      <td>National</td>\n",
       "      <td>BRFSS</td>\n",
       "      <td>Visual Function</td>\n",
       "      <td>Blind or Difficulty Seeing</td>\n",
       "      <td>Percentage of people who are blind or have ser...</td>\n",
       "      <td>Yes</td>\n",
       "      <td>All ages</td>\n",
       "      <td>...</td>\n",
       "      <td>CBLIND</td>\n",
       "      <td>BRVPGL</td>\n",
       "      <td>RYES</td>\n",
       "      <td>NaN</td>\n",
       "      <td>AGEALL</td>\n",
       "      <td>GF</td>\n",
       "      <td>ALLRACE</td>\n",
       "      <td>RFDM</td>\n",
       "      <td>RFNO</td>\n",
       "      <td>NaN</td>\n",
       "    </tr>\n",
       "    <tr>\n",
       "      <th>1</th>\n",
       "      <td>2016</td>\n",
       "      <td>2016</td>\n",
       "      <td>US</td>\n",
       "      <td>National</td>\n",
       "      <td>BRFSS</td>\n",
       "      <td>Visual Function</td>\n",
       "      <td>Blind or Difficulty Seeing</td>\n",
       "      <td>Percentage of people who are blind or have ser...</td>\n",
       "      <td>Yes</td>\n",
       "      <td>All ages</td>\n",
       "      <td>...</td>\n",
       "      <td>CBLIND</td>\n",
       "      <td>BRVPGL</td>\n",
       "      <td>RYES</td>\n",
       "      <td>NaN</td>\n",
       "      <td>AGEALL</td>\n",
       "      <td>GF</td>\n",
       "      <td>ALLRACE</td>\n",
       "      <td>RFSM</td>\n",
       "      <td>RFNO</td>\n",
       "      <td>NaN</td>\n",
       "    </tr>\n",
       "    <tr>\n",
       "      <th>2</th>\n",
       "      <td>2017</td>\n",
       "      <td>2017</td>\n",
       "      <td>US</td>\n",
       "      <td>National</td>\n",
       "      <td>BRFSS</td>\n",
       "      <td>Visual Function</td>\n",
       "      <td>Blind or Difficulty Seeing</td>\n",
       "      <td>Percentage of people who are blind or have ser...</td>\n",
       "      <td>Yes</td>\n",
       "      <td>All ages</td>\n",
       "      <td>...</td>\n",
       "      <td>CBLIND</td>\n",
       "      <td>BRVPGL</td>\n",
       "      <td>RYES</td>\n",
       "      <td>NaN</td>\n",
       "      <td>AGEALL</td>\n",
       "      <td>GF</td>\n",
       "      <td>ALLRACE</td>\n",
       "      <td>RFSM</td>\n",
       "      <td>RFYES</td>\n",
       "      <td>NaN</td>\n",
       "    </tr>\n",
       "    <tr>\n",
       "      <th>3</th>\n",
       "      <td>2018</td>\n",
       "      <td>2018</td>\n",
       "      <td>US</td>\n",
       "      <td>National</td>\n",
       "      <td>BRFSS</td>\n",
       "      <td>Visual Function</td>\n",
       "      <td>Blind or Difficulty Seeing</td>\n",
       "      <td>Percentage of people who are blind or have ser...</td>\n",
       "      <td>Yes</td>\n",
       "      <td>All ages</td>\n",
       "      <td>...</td>\n",
       "      <td>CBLIND</td>\n",
       "      <td>BRVPGL</td>\n",
       "      <td>RYES</td>\n",
       "      <td>NaN</td>\n",
       "      <td>AGEALL</td>\n",
       "      <td>GALL</td>\n",
       "      <td>OTH</td>\n",
       "      <td>RFDM</td>\n",
       "      <td>RFYES</td>\n",
       "      <td>NaN</td>\n",
       "    </tr>\n",
       "    <tr>\n",
       "      <th>4</th>\n",
       "      <td>2018</td>\n",
       "      <td>2018</td>\n",
       "      <td>US</td>\n",
       "      <td>National</td>\n",
       "      <td>BRFSS</td>\n",
       "      <td>Visual Function</td>\n",
       "      <td>Blind or Difficulty Seeing</td>\n",
       "      <td>Percentage of people who are blind or have ser...</td>\n",
       "      <td>Yes</td>\n",
       "      <td>All ages</td>\n",
       "      <td>...</td>\n",
       "      <td>CBLIND</td>\n",
       "      <td>BRVPGL</td>\n",
       "      <td>RYES</td>\n",
       "      <td>NaN</td>\n",
       "      <td>AGEALL</td>\n",
       "      <td>GALL</td>\n",
       "      <td>ASN</td>\n",
       "      <td>RFSM</td>\n",
       "      <td>RFYES</td>\n",
       "      <td>NaN</td>\n",
       "    </tr>\n",
       "  </tbody>\n",
       "</table>\n",
       "<p>5 rows × 35 columns</p>\n",
       "</div>"
      ],
      "text/plain": [
       "   YearStart  YearEnd LocationAbbr LocationDesc DataSource            Topic  \\\n",
       "0       2013     2013           US     National      BRFSS  Visual Function   \n",
       "1       2016     2016           US     National      BRFSS  Visual Function   \n",
       "2       2017     2017           US     National      BRFSS  Visual Function   \n",
       "3       2018     2018           US     National      BRFSS  Visual Function   \n",
       "4       2018     2018           US     National      BRFSS  Visual Function   \n",
       "\n",
       "                     Category  \\\n",
       "0  Blind or Difficulty Seeing   \n",
       "1  Blind or Difficulty Seeing   \n",
       "2  Blind or Difficulty Seeing   \n",
       "3  Blind or Difficulty Seeing   \n",
       "4  Blind or Difficulty Seeing   \n",
       "\n",
       "                                            Question Response       Age  ...  \\\n",
       "0  Percentage of people who are blind or have ser...      Yes  All ages  ...   \n",
       "1  Percentage of people who are blind or have ser...      Yes  All ages  ...   \n",
       "2  Percentage of people who are blind or have ser...      Yes  All ages  ...   \n",
       "3  Percentage of people who are blind or have ser...      Yes  All ages  ...   \n",
       "4  Percentage of people who are blind or have ser...      Yes  All ages  ...   \n",
       "\n",
       "  CategoryID QuestionID ResponseID DataValueTypeID   AgeID GenderID  \\\n",
       "0     CBLIND     BRVPGL       RYES             NaN  AGEALL       GF   \n",
       "1     CBLIND     BRVPGL       RYES             NaN  AGEALL       GF   \n",
       "2     CBLIND     BRVPGL       RYES             NaN  AGEALL       GF   \n",
       "3     CBLIND     BRVPGL       RYES             NaN  AGEALL     GALL   \n",
       "4     CBLIND     BRVPGL       RYES             NaN  AGEALL     GALL   \n",
       "\n",
       "   RaceEthnicityID RiskFactorID RiskFactorResponseID  Geolocation  \n",
       "0          ALLRACE         RFDM                 RFNO          NaN  \n",
       "1          ALLRACE         RFSM                 RFNO          NaN  \n",
       "2          ALLRACE         RFSM                RFYES          NaN  \n",
       "3              OTH         RFDM                RFYES          NaN  \n",
       "4              ASN         RFSM                RFYES          NaN  \n",
       "\n",
       "[5 rows x 35 columns]"
      ]
     },
     "execution_count": 69,
     "metadata": {},
     "output_type": "execute_result"
    }
   ],
   "source": [
    "brf = pd.read_csv(\"brf_vision_eye.csv\")\n",
    "brf.head(5)"
   ]
  },
  {
   "cell_type": "code",
   "execution_count": 8,
   "metadata": {},
   "outputs": [
    {
     "data": {
      "text/plain": [
       "Index(['YearStart', 'YearEnd', 'LocationAbbr', 'LocationDesc', 'DataSource',\n",
       "       'Topic', 'Category', 'Question', 'Response', 'Age', 'Gender',\n",
       "       'RaceEthnicity', 'RiskFactor', 'RiskFactorResponse', 'Data_Value_Unit',\n",
       "       'Data_Value_Type', 'Data_Value', 'Data_Value_Footnote_Symbol',\n",
       "       'Data_Value_Footnote', 'Low_Confidence_Limit', 'High_Confidence_Limit',\n",
       "       'Numerator', 'Sample_Size', 'LocationID', 'TopicID', 'CategoryID',\n",
       "       'QuestionID', 'ResponseID', 'DataValueTypeID', 'AgeID', 'GenderID',\n",
       "       'RaceEthnicityID', 'RiskFactorID', 'RiskFactorResponseID',\n",
       "       'Geolocation'],\n",
       "      dtype='object')"
      ]
     },
     "execution_count": 8,
     "metadata": {},
     "output_type": "execute_result"
    }
   ],
   "source": [
    "brf.columns"
   ]
  },
  {
   "cell_type": "code",
   "execution_count": 128,
   "metadata": {},
   "outputs": [
    {
     "data": {
      "text/plain": [
       "[array(['US', 'NM', 'HI', 'AK', 'ND', 'WI', 'MI', 'OK', 'AR', 'TN', 'MO',\n",
       "        'IL', 'MT', 'CT', 'RI', 'KY', 'TX', 'NV', 'PR', 'PA', 'NJ', 'SC',\n",
       "        'MD', 'AL', 'AZ', 'MA', 'NH', 'MN', 'GU', 'UT', 'DC', 'LA', 'FL',\n",
       "        'DE', 'SD', 'CA', 'VT', 'NC', 'ME', 'WA', 'IN', 'GA', 'KS', 'OR',\n",
       "        'VA', 'IA', 'CO', 'NY', 'WV', 'MS', 'ID', 'WY', 'OH', 'NE'],\n",
       "       dtype=object),\n",
       " array(['All ages', '40-64 years', '18-39 years', '65 years and older'],\n",
       "       dtype=object),\n",
       " array(['Female', 'All genders', 'Male'], dtype=object),\n",
       " array(['All races', 'Other', 'Asian', 'Black, non-Hispanic',\n",
       "        'North American Native', 'White, non-Hispanic',\n",
       "        'Hispanic, any race'], dtype=object),\n",
       " array(['Diabetes', 'Smoking', 'All participants'], dtype=object),\n",
       " array(['Crude Prevalence', 'Age-adjusted Prevalence'], dtype=object)]"
      ]
     },
     "execution_count": 128,
     "metadata": {},
     "output_type": "execute_result"
    }
   ],
   "source": [
    "# See the unique values for each characteristic\n",
    "[brf[\"LocationAbbr\"].unique(), brf[\"Age\"].unique(), brf[\"Gender\"].unique(), brf[\"RaceEthnicity\"].unique(), brf[\"RiskFactor\"].unique(),\n",
    "    brf[\"Data_Value_Type\"].unique()]"
   ]
  },
  {
   "cell_type": "markdown",
   "metadata": {},
   "source": [
    "**Dataset Organization** \n",
    "\n",
    "- We can see above that the data covers all 50 states, as well as the District of Columbia, Puerto Rico, Guam, and the United States a whole. \n",
    "\n",
    "- The age groups are 18-39, 40-64, 65+, and all ages. \n",
    "\n",
    "- For gender there are female, male, and both combined. \n",
    "\n",
    "- The race/ethnicity groups are asian, black non-hispanic, hispanic any race, north american native, white non-hispanic, other, and all races combined.\n",
    "\n",
    "- The risk factors are diabetes, smoking, and all participants (not taking risk factor into account).\n",
    "\n",
    "- We also see that the dataset includes both crude and age-adjusted prevalence rates."
   ]
  },
  {
   "cell_type": "markdown",
   "metadata": {},
   "source": [
    "### Exploratory Data Analysis\n",
    "\n",
    "Although the dataset includes information about all states and other locations, I want to first look at Louisiana residents (since that's my home state). For the rest of the analysis, when making comparisons, I will only use the age-adjusted prevalence rates to account for different age structures within different \n",
    "characteristics.\n",
    "\n",
    "Next, I will drop all redundant and unnecessary columns to make the dataset cleaner. "
   ]
  },
  {
   "cell_type": "code",
   "execution_count": 131,
   "metadata": {},
   "outputs": [
    {
     "data": {
      "text/html": [
       "<div>\n",
       "<style scoped>\n",
       "    .dataframe tbody tr th:only-of-type {\n",
       "        vertical-align: middle;\n",
       "    }\n",
       "\n",
       "    .dataframe tbody tr th {\n",
       "        vertical-align: top;\n",
       "    }\n",
       "\n",
       "    .dataframe thead th {\n",
       "        text-align: right;\n",
       "    }\n",
       "</style>\n",
       "<table border=\"1\" class=\"dataframe\">\n",
       "  <thead>\n",
       "    <tr style=\"text-align: right;\">\n",
       "      <th></th>\n",
       "      <th>YearStart</th>\n",
       "      <th>YearEnd</th>\n",
       "      <th>LocationAbbr</th>\n",
       "      <th>Age</th>\n",
       "      <th>Gender</th>\n",
       "      <th>RaceEthnicity</th>\n",
       "      <th>RiskFactor</th>\n",
       "      <th>RiskFactorResponse</th>\n",
       "      <th>Data_Value_Type</th>\n",
       "      <th>Data_Value</th>\n",
       "    </tr>\n",
       "  </thead>\n",
       "  <tbody>\n",
       "    <tr>\n",
       "      <th>0</th>\n",
       "      <td>2013</td>\n",
       "      <td>2013</td>\n",
       "      <td>US</td>\n",
       "      <td>All ages</td>\n",
       "      <td>Female</td>\n",
       "      <td>All races</td>\n",
       "      <td>Diabetes</td>\n",
       "      <td>No</td>\n",
       "      <td>Crude Prevalence</td>\n",
       "      <td>4.59</td>\n",
       "    </tr>\n",
       "    <tr>\n",
       "      <th>1</th>\n",
       "      <td>2016</td>\n",
       "      <td>2016</td>\n",
       "      <td>US</td>\n",
       "      <td>All ages</td>\n",
       "      <td>Female</td>\n",
       "      <td>All races</td>\n",
       "      <td>Smoking</td>\n",
       "      <td>No</td>\n",
       "      <td>Age-adjusted Prevalence</td>\n",
       "      <td>4.23</td>\n",
       "    </tr>\n",
       "    <tr>\n",
       "      <th>2</th>\n",
       "      <td>2017</td>\n",
       "      <td>2017</td>\n",
       "      <td>US</td>\n",
       "      <td>All ages</td>\n",
       "      <td>Female</td>\n",
       "      <td>All races</td>\n",
       "      <td>Smoking</td>\n",
       "      <td>Yes</td>\n",
       "      <td>Age-adjusted Prevalence</td>\n",
       "      <td>9.42</td>\n",
       "    </tr>\n",
       "    <tr>\n",
       "      <th>3</th>\n",
       "      <td>2018</td>\n",
       "      <td>2018</td>\n",
       "      <td>US</td>\n",
       "      <td>All ages</td>\n",
       "      <td>All genders</td>\n",
       "      <td>Other</td>\n",
       "      <td>Diabetes</td>\n",
       "      <td>Yes</td>\n",
       "      <td>Age-adjusted Prevalence</td>\n",
       "      <td>11.70</td>\n",
       "    </tr>\n",
       "    <tr>\n",
       "      <th>4</th>\n",
       "      <td>2018</td>\n",
       "      <td>2018</td>\n",
       "      <td>US</td>\n",
       "      <td>All ages</td>\n",
       "      <td>All genders</td>\n",
       "      <td>Asian</td>\n",
       "      <td>Smoking</td>\n",
       "      <td>Yes</td>\n",
       "      <td>Age-adjusted Prevalence</td>\n",
       "      <td>NaN</td>\n",
       "    </tr>\n",
       "  </tbody>\n",
       "</table>\n",
       "</div>"
      ],
      "text/plain": [
       "   YearStart  YearEnd LocationAbbr       Age       Gender RaceEthnicity  \\\n",
       "0       2013     2013           US  All ages       Female     All races   \n",
       "1       2016     2016           US  All ages       Female     All races   \n",
       "2       2017     2017           US  All ages       Female     All races   \n",
       "3       2018     2018           US  All ages  All genders         Other   \n",
       "4       2018     2018           US  All ages  All genders         Asian   \n",
       "\n",
       "  RiskFactor RiskFactorResponse          Data_Value_Type  Data_Value  \n",
       "0   Diabetes                 No         Crude Prevalence        4.59  \n",
       "1    Smoking                 No  Age-adjusted Prevalence        4.23  \n",
       "2    Smoking                Yes  Age-adjusted Prevalence        9.42  \n",
       "3   Diabetes                Yes  Age-adjusted Prevalence       11.70  \n",
       "4    Smoking                Yes  Age-adjusted Prevalence         NaN  "
      ]
     },
     "execution_count": 131,
     "metadata": {},
     "output_type": "execute_result"
    }
   ],
   "source": [
    "# Only keeping columns needed\n",
    "brf_small = brf[['YearStart', 'YearEnd', 'LocationAbbr','Age', 'Gender', 'RaceEthnicity', 'RiskFactor', 'RiskFactorResponse', \n",
    "                    'Data_Value_Type', 'Data_Value']]\n",
    "brf_small.head()"
   ]
  },
  {
   "cell_type": "markdown",
   "metadata": {},
   "source": [
    "First, I will look at gender differences."
   ]
  },
  {
   "cell_type": "code",
   "execution_count": 167,
   "metadata": {},
   "outputs": [
    {
     "data": {
      "text/plain": [
       "<seaborn.axisgrid.FacetGrid at 0x7fd61c033820>"
      ]
     },
     "execution_count": 167,
     "metadata": {},
     "output_type": "execute_result"
    },
    {
     "data": {
      "image/png": "[encoded data removed]",
      "text/plain": [
       "<Figure size 562.35x324 with 1 Axes>"
      ]
     },
     "metadata": {},
     "output_type": "display_data"
    }
   ],
   "source": [
    "brf_la_gender = brf_small[(brf_small[\"LocationAbbr\"] == \"LA\") & (brf_small[\"Gender\"] != \"All genders\") & \n",
    "        (brf_small[\"Data_Value_Type\"] == \"Age-adjusted Prevalence\")]\n",
    "\n",
    "sns.set_theme(style=\"white\", palette=\"pastel\")\n",
    "g = sns.catplot(data=brf_la_gender, kind=\"bar\",\n",
    "                x=\"YearStart\", y=\"Data_Value\", hue=\"Gender\",\n",
    "                alpha=0.8, height=4.5, aspect=1.5)\n",
    "g.despine(left=True)\n",
    "g.set_axis_labels(\"Year\", \"Age-adjusted Prevalence (%)\")\n",
    "g.legend.set_title(\"\")\n",
    "g.set(title=\"Prevalence of Blindness/Near-Blindness by Gender\", ylim=(0,10))"
   ]
  },
  {
   "cell_type": "markdown",
   "metadata": {},
   "source": [
    "For each year, women have a higher age-adjusted prevalence of blindness, and in 2017 there was a notable difference.\n",
    "\n",
    "What about race/ethnicity?"
   ]
  },
  {
   "cell_type": "code",
   "execution_count": 104,
   "metadata": {},
   "outputs": [
    {
     "data": {
      "text/html": [
       "<div>\n",
       "<style scoped>\n",
       "    .dataframe tbody tr th:only-of-type {\n",
       "        vertical-align: middle;\n",
       "    }\n",
       "\n",
       "    .dataframe tbody tr th {\n",
       "        vertical-align: top;\n",
       "    }\n",
       "\n",
       "    .dataframe thead th {\n",
       "        text-align: right;\n",
       "    }\n",
       "</style>\n",
       "<table border=\"1\" class=\"dataframe\">\n",
       "  <thead>\n",
       "    <tr style=\"text-align: right;\">\n",
       "      <th></th>\n",
       "      <th>YearStart</th>\n",
       "      <th>YearEnd</th>\n",
       "      <th>LocationAbbr</th>\n",
       "      <th>Age</th>\n",
       "      <th>Gender</th>\n",
       "      <th>RaceEthnicity</th>\n",
       "      <th>RiskFactor</th>\n",
       "      <th>RiskFactorResponse</th>\n",
       "      <th>Data_Value_Type</th>\n",
       "      <th>Data_Value</th>\n",
       "    </tr>\n",
       "  </thead>\n",
       "  <tbody>\n",
       "    <tr>\n",
       "      <th>1070</th>\n",
       "      <td>2013</td>\n",
       "      <td>2013</td>\n",
       "      <td>LA</td>\n",
       "      <td>All ages</td>\n",
       "      <td>All genders</td>\n",
       "      <td>White, non-Hispanic</td>\n",
       "      <td>All participants</td>\n",
       "      <td>All participants</td>\n",
       "      <td>Age-adjusted Prevalence</td>\n",
       "      <td>4.55</td>\n",
       "    </tr>\n",
       "    <tr>\n",
       "      <th>2317</th>\n",
       "      <td>2018</td>\n",
       "      <td>2018</td>\n",
       "      <td>LA</td>\n",
       "      <td>All ages</td>\n",
       "      <td>All genders</td>\n",
       "      <td>White, non-Hispanic</td>\n",
       "      <td>All participants</td>\n",
       "      <td>All participants</td>\n",
       "      <td>Age-adjusted Prevalence</td>\n",
       "      <td>4.80</td>\n",
       "    </tr>\n",
       "    <tr>\n",
       "      <th>2505</th>\n",
       "      <td>2015</td>\n",
       "      <td>2015</td>\n",
       "      <td>LA</td>\n",
       "      <td>All ages</td>\n",
       "      <td>All genders</td>\n",
       "      <td>White, non-Hispanic</td>\n",
       "      <td>All participants</td>\n",
       "      <td>All participants</td>\n",
       "      <td>Age-adjusted Prevalence</td>\n",
       "      <td>6.24</td>\n",
       "    </tr>\n",
       "    <tr>\n",
       "      <th>2982</th>\n",
       "      <td>2013</td>\n",
       "      <td>2013</td>\n",
       "      <td>LA</td>\n",
       "      <td>All ages</td>\n",
       "      <td>All genders</td>\n",
       "      <td>Black, non-Hispanic</td>\n",
       "      <td>All participants</td>\n",
       "      <td>All participants</td>\n",
       "      <td>Age-adjusted Prevalence</td>\n",
       "      <td>7.84</td>\n",
       "    </tr>\n",
       "    <tr>\n",
       "      <th>3341</th>\n",
       "      <td>2014</td>\n",
       "      <td>2014</td>\n",
       "      <td>LA</td>\n",
       "      <td>All ages</td>\n",
       "      <td>All genders</td>\n",
       "      <td>Black, non-Hispanic</td>\n",
       "      <td>All participants</td>\n",
       "      <td>All participants</td>\n",
       "      <td>Age-adjusted Prevalence</td>\n",
       "      <td>9.65</td>\n",
       "    </tr>\n",
       "    <tr>\n",
       "      <th>5624</th>\n",
       "      <td>2016</td>\n",
       "      <td>2016</td>\n",
       "      <td>LA</td>\n",
       "      <td>All ages</td>\n",
       "      <td>All genders</td>\n",
       "      <td>Black, non-Hispanic</td>\n",
       "      <td>All participants</td>\n",
       "      <td>All participants</td>\n",
       "      <td>Age-adjusted Prevalence</td>\n",
       "      <td>8.15</td>\n",
       "    </tr>\n",
       "    <tr>\n",
       "      <th>6137</th>\n",
       "      <td>2014</td>\n",
       "      <td>2014</td>\n",
       "      <td>LA</td>\n",
       "      <td>All ages</td>\n",
       "      <td>All genders</td>\n",
       "      <td>North American Native</td>\n",
       "      <td>All participants</td>\n",
       "      <td>All participants</td>\n",
       "      <td>Age-adjusted Prevalence</td>\n",
       "      <td>14.70</td>\n",
       "    </tr>\n",
       "    <tr>\n",
       "      <th>6864</th>\n",
       "      <td>2014</td>\n",
       "      <td>2014</td>\n",
       "      <td>LA</td>\n",
       "      <td>All ages</td>\n",
       "      <td>All genders</td>\n",
       "      <td>White, non-Hispanic</td>\n",
       "      <td>All participants</td>\n",
       "      <td>All participants</td>\n",
       "      <td>Age-adjusted Prevalence</td>\n",
       "      <td>5.69</td>\n",
       "    </tr>\n",
       "    <tr>\n",
       "      <th>8273</th>\n",
       "      <td>2016</td>\n",
       "      <td>2016</td>\n",
       "      <td>LA</td>\n",
       "      <td>All ages</td>\n",
       "      <td>All genders</td>\n",
       "      <td>White, non-Hispanic</td>\n",
       "      <td>All participants</td>\n",
       "      <td>All participants</td>\n",
       "      <td>Age-adjusted Prevalence</td>\n",
       "      <td>4.69</td>\n",
       "    </tr>\n",
       "    <tr>\n",
       "      <th>8352</th>\n",
       "      <td>2017</td>\n",
       "      <td>2017</td>\n",
       "      <td>LA</td>\n",
       "      <td>All ages</td>\n",
       "      <td>All genders</td>\n",
       "      <td>White, non-Hispanic</td>\n",
       "      <td>All participants</td>\n",
       "      <td>All participants</td>\n",
       "      <td>Age-adjusted Prevalence</td>\n",
       "      <td>5.58</td>\n",
       "    </tr>\n",
       "    <tr>\n",
       "      <th>9097</th>\n",
       "      <td>2017</td>\n",
       "      <td>2017</td>\n",
       "      <td>LA</td>\n",
       "      <td>All ages</td>\n",
       "      <td>All genders</td>\n",
       "      <td>Other</td>\n",
       "      <td>All participants</td>\n",
       "      <td>All participants</td>\n",
       "      <td>Age-adjusted Prevalence</td>\n",
       "      <td>15.60</td>\n",
       "    </tr>\n",
       "    <tr>\n",
       "      <th>10464</th>\n",
       "      <td>2015</td>\n",
       "      <td>2015</td>\n",
       "      <td>LA</td>\n",
       "      <td>All ages</td>\n",
       "      <td>All genders</td>\n",
       "      <td>Black, non-Hispanic</td>\n",
       "      <td>All participants</td>\n",
       "      <td>All participants</td>\n",
       "      <td>Age-adjusted Prevalence</td>\n",
       "      <td>7.32</td>\n",
       "    </tr>\n",
       "    <tr>\n",
       "      <th>10603</th>\n",
       "      <td>2017</td>\n",
       "      <td>2017</td>\n",
       "      <td>LA</td>\n",
       "      <td>All ages</td>\n",
       "      <td>All genders</td>\n",
       "      <td>Black, non-Hispanic</td>\n",
       "      <td>All participants</td>\n",
       "      <td>All participants</td>\n",
       "      <td>Age-adjusted Prevalence</td>\n",
       "      <td>9.93</td>\n",
       "    </tr>\n",
       "    <tr>\n",
       "      <th>10894</th>\n",
       "      <td>2018</td>\n",
       "      <td>2018</td>\n",
       "      <td>LA</td>\n",
       "      <td>All ages</td>\n",
       "      <td>All genders</td>\n",
       "      <td>Black, non-Hispanic</td>\n",
       "      <td>All participants</td>\n",
       "      <td>All participants</td>\n",
       "      <td>Age-adjusted Prevalence</td>\n",
       "      <td>9.31</td>\n",
       "    </tr>\n",
       "  </tbody>\n",
       "</table>\n",
       "</div>"
      ],
      "text/plain": [
       "       YearStart  YearEnd LocationAbbr       Age       Gender  \\\n",
       "1070        2013     2013           LA  All ages  All genders   \n",
       "2317        2018     2018           LA  All ages  All genders   \n",
       "2505        2015     2015           LA  All ages  All genders   \n",
       "2982        2013     2013           LA  All ages  All genders   \n",
       "3341        2014     2014           LA  All ages  All genders   \n",
       "5624        2016     2016           LA  All ages  All genders   \n",
       "6137        2014     2014           LA  All ages  All genders   \n",
       "6864        2014     2014           LA  All ages  All genders   \n",
       "8273        2016     2016           LA  All ages  All genders   \n",
       "8352        2017     2017           LA  All ages  All genders   \n",
       "9097        2017     2017           LA  All ages  All genders   \n",
       "10464       2015     2015           LA  All ages  All genders   \n",
       "10603       2017     2017           LA  All ages  All genders   \n",
       "10894       2018     2018           LA  All ages  All genders   \n",
       "\n",
       "               RaceEthnicity        RiskFactor RiskFactorResponse  \\\n",
       "1070     White, non-Hispanic  All participants   All participants   \n",
       "2317     White, non-Hispanic  All participants   All participants   \n",
       "2505     White, non-Hispanic  All participants   All participants   \n",
       "2982     Black, non-Hispanic  All participants   All participants   \n",
       "3341     Black, non-Hispanic  All participants   All participants   \n",
       "5624     Black, non-Hispanic  All participants   All participants   \n",
       "6137   North American Native  All participants   All participants   \n",
       "6864     White, non-Hispanic  All participants   All participants   \n",
       "8273     White, non-Hispanic  All participants   All participants   \n",
       "8352     White, non-Hispanic  All participants   All participants   \n",
       "9097                   Other  All participants   All participants   \n",
       "10464    Black, non-Hispanic  All participants   All participants   \n",
       "10603    Black, non-Hispanic  All participants   All participants   \n",
       "10894    Black, non-Hispanic  All participants   All participants   \n",
       "\n",
       "               Data_Value_Type  Data_Value  \n",
       "1070   Age-adjusted Prevalence        4.55  \n",
       "2317   Age-adjusted Prevalence        4.80  \n",
       "2505   Age-adjusted Prevalence        6.24  \n",
       "2982   Age-adjusted Prevalence        7.84  \n",
       "3341   Age-adjusted Prevalence        9.65  \n",
       "5624   Age-adjusted Prevalence        8.15  \n",
       "6137   Age-adjusted Prevalence       14.70  \n",
       "6864   Age-adjusted Prevalence        5.69  \n",
       "8273   Age-adjusted Prevalence        4.69  \n",
       "8352   Age-adjusted Prevalence        5.58  \n",
       "9097   Age-adjusted Prevalence       15.60  \n",
       "10464  Age-adjusted Prevalence        7.32  \n",
       "10603  Age-adjusted Prevalence        9.93  \n",
       "10894  Age-adjusted Prevalence        9.31  "
      ]
     },
     "execution_count": 104,
     "metadata": {},
     "output_type": "execute_result"
    }
   ],
   "source": [
    "brf_la_race = brf_small[(brf_small[\"LocationAbbr\"] == \"LA\") & (brf_small[\"RaceEthnicity\"] != \"All races\") & \n",
    "                        (brf_small[\"Data_Value_Type\"] == \"Age-adjusted Prevalence\")]\n",
    "\n",
    "brf_la_race.dropna()"
   ]
  },
  {
   "cell_type": "markdown",
   "metadata": {},
   "source": [
    "Since there are only two rows where the Race/Ethnicity is not black or white and is not missing, I will only look at black non-hispanic and white non-hispanic for comparisons."
   ]
  },
  {
   "cell_type": "code",
   "execution_count": 168,
   "metadata": {},
   "outputs": [
    {
     "data": {
      "text/plain": [
       "<seaborn.axisgrid.FacetGrid at 0x7fd619f9eaf0>"
      ]
     },
     "execution_count": 168,
     "metadata": {},
     "output_type": "execute_result"
    },
    {
     "data": {
      "image/png": "[encoded data removed]",
      "text/plain": [
       "<Figure size 624.225x324 with 1 Axes>"
      ]
     },
     "metadata": {},
     "output_type": "display_data"
    }
   ],
   "source": [
    "brf_la_race = brf_la_race.dropna()\n",
    "brf_la_race_bw = brf_la_race[brf_la_race[\"RaceEthnicity\"].isin([\"Black, non-Hispanic\",\"White, non-Hispanic\"])]\n",
    "g = sns.catplot(data=brf_la_race_bw, kind=\"bar\",\n",
    "                x=\"YearStart\", y=\"Data_Value\", hue=\"RaceEthnicity\",\n",
    "                alpha=0.7, height=4.5, aspect=1.5)\n",
    "g.despine(left=True)\n",
    "g.set_axis_labels(\"Year\", \"Age-adjusted Prevalence (%)\" )\n",
    "g.legend.set_title(\"\")\n",
    "g.set(title=\"Prevalence of Blindness/Near-Blindness by Race\")"
   ]
  },
  {
   "cell_type": "code",
   "execution_count": 114,
   "metadata": {},
   "outputs": [
    {
     "data": {
      "text/plain": [
       "YearStart\n",
       "2013    1.723077\n",
       "2014    1.695958\n",
       "2015    1.173077\n",
       "2016    1.737740\n",
       "2017    1.779570\n",
       "2018    1.939583\n",
       "Name: Data_Value, dtype: float64"
      ]
     },
     "execution_count": 114,
     "metadata": {},
     "output_type": "execute_result"
    }
   ],
   "source": [
    "brf_la_race_bw.groupby([\"YearStart\"])[\"Data_Value\"].max() / brf_la_race_bw.groupby([\"YearStart\"])[\"Data_Value\"].min()"
   ]
  },
  {
   "cell_type": "markdown",
   "metadata": {},
   "source": [
    "Blacks, non-hispanic, have signicantly higher prevalence for blindness/near-blindness than whites, non-hispanic. Above, you can see the prevalence ratio of blacks to whites. 2018 has the highest prevalence ratio, with blacks having 1.9 times the prevalence of blindness/near-blindness than whites.\n",
    "\n",
    "Now, I want to plot the prevalance rates by different age groups. I suspect that the prevalecne rates will increase as age increases."
   ]
  },
  {
   "cell_type": "code",
   "execution_count": 169,
   "metadata": {},
   "outputs": [
    {
     "data": {
      "text/plain": [
       "<seaborn.axisgrid.FacetGrid at 0x7fd61bdea760>"
      ]
     },
     "execution_count": 169,
     "metadata": {},
     "output_type": "execute_result"
    },
    {
     "data": {
      "image/png": "[encoded data removed]",
      "text/plain": [
       "<Figure size 616.725x324 with 1 Axes>"
      ]
     },
     "metadata": {},
     "output_type": "display_data"
    }
   ],
   "source": [
    "brf_la_age = brf_small[(brf_small[\"LocationAbbr\"] == \"LA\") & (brf_small[\"Age\"] != \"All ages\") & \n",
    "                            (brf_small[\"Data_Value_Type\"] == \"Age-adjusted Prevalence\")]\n",
    "\n",
    "g = sns.catplot(data=brf_la_age, kind=\"bar\",\n",
    "                x=\"YearStart\", y=\"Data_Value\", hue=\"Age\",\n",
    "                alpha=0.7, height=4.5, aspect=1.5)\n",
    "g.despine(left=True)\n",
    "g.set_axis_labels(\"Year\", \"Age-adjusted Prevalence (%)\" )\n",
    "g.legend.set_title(\"\")\n",
    "g.set(title=\"Prevalence of Blindness/Near-Blindness by Age\")"
   ]
  },
  {
   "cell_type": "markdown",
   "metadata": {},
   "source": [
    "As suspected, those 40+ years of age have much higher prevalecne rates than those under 40.\n",
    "\n",
    "Finally, for Lousiana residents, I want to look at prevalence rates by risk factor of either smoking or having diabetes."
   ]
  },
  {
   "cell_type": "code",
   "execution_count": 183,
   "metadata": {},
   "outputs": [
    {
     "data": {
      "image/png": "[encoded data removed]",
      "text/plain": [
       "<Figure size 840.175x360 with 2 Axes>"
      ]
     },
     "metadata": {},
     "output_type": "display_data"
    }
   ],
   "source": [
    "brf_la_risk = brf_small[(brf_small[\"LocationAbbr\"] == \"LA\") & (brf_small[\"RiskFactorResponse\"] != \"All participants\") & \n",
    "                            (brf_small[\"Data_Value_Type\"] == \"Age-adjusted Prevalence\")]\n",
    "\n",
    "sns.set_style(\"ticks\")\n",
    "g = sns.catplot(data=brf_la_risk, x=\"YearStart\", y=\"Data_Value\", col=\"RiskFactor\", hue=\"RiskFactorResponse\",\n",
    "                    kind=\"bar\", ci=None, alpha=0.7)\n",
    "g.set_axis_labels(\"Year\",\"Age-Adjusted Prevalence (%)\")\n",
    "g.set_xticklabels([\"2013\", \"2014\",\"2015\",\"2016\",\"2017\",\"2018\"])\n",
    "g.set_titles(\"{col_name}\")\n",
    "g.despine(left=True)\n",
    "g.legend.set_title(\"Risk Factor Response\")\n"
   ]
  },
  {
   "cell_type": "markdown",
   "metadata": {},
   "source": [
    "Both smoking and diabetes have an increased prevalence of blindness/near-blindness when compared to not having that risk factor, and those with diabetes have higher prevalence rates than those who smoke. \n",
    "\n",
    "**Now, how does the state of Louisiana compare to the US as a whole?**\n",
    "\n",
    "There were some interesting trends in the data when looking at Louisiana residents, and now I want to see how the rates for Louisianians compare to the United States as a whole for gender, race/ethnicity, and risk factor. "
   ]
  },
  {
   "cell_type": "code",
   "execution_count": 182,
   "metadata": {},
   "outputs": [
    {
     "data": {
      "image/png": "[encoded data removed]",
      "text/plain": [
       "<Figure size 796.35x360 with 2 Axes>"
      ]
     },
     "metadata": {},
     "output_type": "display_data"
    }
   ],
   "source": [
    "brf_gender = brf_small[(brf_small[\"LocationAbbr\"].isin([\"US\",\"LA\"])) & (brf_small[\"Age\"] == \"All ages\") & (brf_small[\"Gender\"] != \"All genders\") & \n",
    "                        (brf_small[\"RaceEthnicity\"] == \"All races\") & (brf_small[\"RiskFactor\"] == \"All participants\") &\n",
    "                        (brf_small[\"Data_Value_Type\"] == \"Age-adjusted Prevalence\")]\n",
    "\n",
    "g = sns.catplot(data=brf_gender, x=\"YearStart\", y=\"Data_Value\", col=\"LocationAbbr\", hue=\"Gender\",\n",
    "                    kind=\"bar\", ci=None, alpha=0.7)\n",
    "g.set_axis_labels(\"Year\",\"Age-Adjusted Prevalence (%)\")\n",
    "g.set_xticklabels([\"2013\", \"2014\",\"2015\",\"2016\",\"2017\",\"2018\"])\n",
    "g.set_titles(\"{col_name}\")\n",
    "g.despine(left=True)\n",
    "g.legend.set_title(\"\")"
   ]
  },
  {
   "cell_type": "code",
   "execution_count": 181,
   "metadata": {},
   "outputs": [
    {
     "data": {
      "image/png": "[encoded data removed]",
      "text/plain": [
       "<Figure size 858.225x360 with 2 Axes>"
      ]
     },
     "metadata": {},
     "output_type": "display_data"
    }
   ],
   "source": [
    "brf_race = brf_small[(brf_small[\"LocationAbbr\"].isin([\"US\",\"LA\"])) & (brf_small[\"Age\"] == \"All ages\") & (brf_small[\"Gender\"] == \"All genders\") & \n",
    "                        (brf_small[\"RaceEthnicity\"].isin([\"Black, non-Hispanic\",\"White, non-Hispanic\"])) & (brf_small[\"RiskFactor\"] == \"All participants\") &\n",
    "                        (brf_small[\"Data_Value_Type\"] == \"Age-adjusted Prevalence\")]\n",
    "\n",
    "g = sns.catplot(data=brf_race, x=\"YearStart\", y=\"Data_Value\", col=\"LocationAbbr\", hue=\"RaceEthnicity\",\n",
    "                    kind=\"bar\", ci=None, alpha=0.7)\n",
    "g.set_axis_labels(\"Year\",\"Age-Adjusted Prevalence (%)\")\n",
    "g.set_xticklabels([\"2013\", \"2014\",\"2015\",\"2016\",\"2017\",\"2018\"])\n",
    "g.set_titles(\"{col_name}\")\n",
    "g.despine(left=True)\n",
    "g.legend.set_title(\"\")"
   ]
  },
  {
   "cell_type": "code",
   "execution_count": 192,
   "metadata": {},
   "outputs": [
    {
     "data": {
      "image/png": "[encoded data removed]",
      "text/plain": [
       "<Figure size 840.175x720 with 4 Axes>"
      ]
     },
     "metadata": {},
     "output_type": "display_data"
    }
   ],
   "source": [
    "brf_risk = brf_small[(brf_small[\"LocationAbbr\"].isin([\"US\",\"LA\"])) & (brf_small[\"Age\"] == \"All ages\") & (brf_small[\"Gender\"] == \"All genders\") & \n",
    "                        (brf_small[\"RaceEthnicity\"] == \"All races\") & (brf_small[\"RiskFactor\"] != \"All participants\") &\n",
    "                        (brf_small[\"Data_Value_Type\"] == \"Age-adjusted Prevalence\")]\n",
    "\n",
    "g = sns.catplot(data=brf_risk, x=\"YearStart\", y=\"Data_Value\", col=\"LocationAbbr\", \n",
    "                    row=\"RiskFactor\", hue=\"RiskFactorResponse\",\n",
    "                    kind=\"bar\", ci=None, alpha=0.7)\n",
    "g.set_axis_labels(\"Year\",\"Age-Adjusted Prevalence (%)\")\n",
    "g.set_xticklabels([\"2013\", \"2014\",\"2015\",\"2016\",\"2017\",\"2018\"])\n",
    "g.set_titles(\"{col_name} - {row_name}\")\n",
    "g.despine(left=True)\n",
    "g.legend.set_title(\"Risk Factor Response\")"
   ]
  },
  {
   "cell_type": "markdown",
   "metadata": {},
   "source": [
    "For every stratum (gender, race, risk factor), Louisiana has higher prevalence rates of blindness/near-blindness than the US as a whole. \n",
    "\n",
    "### Summary\n",
    "I was interested in seeing how the prevalence of blind/near-blind people in Louisiana might differ based on age, gender, race/ethnicity, and risk factor of smoking and diabetes. As expected, those older have more cases of blindness/near-blindness. Somewhat unexpected, women seem to have slightly higher prevalence rates of blindness than men. Non-hispanic blacks have higher prevalence rates than non-hispanic whites, and the difference is much more pronounced than the differences between gender. Similarly, being a smoker or having diabetes have much higher prevalence rates than not having those risk factors. \n",
    "\n",
    "When compared to the US, Louisiana has higher prevalence rates of blindness/near-blindness, even when looking at stratum-specific measurements. Why is this the case? I'm not sure, but this may be due to Louisiana having a lower average socioeconomic status than other US states. Since socioeconomic status is correlated with access to healthcare, having more cases of blindness/near-blindness may be a result of that as some cases could have been prevented/treated with better access to healthcare.\n",
    "\n",
    "There are more questions that I can explore in the data, such as:\n",
    "\n",
    "- Are there any trends over time?\n",
    "- In the US, are there any trends in the intersection of race/ethnicity and gender, or race/ethnicity and risk factor?\n",
    "- How do all the US states compare to the US as a whole? Which have higher prevalence rates? Which have lower?\n",
    "\n",
    "I enjoyed playing with this dataset, and I hope I can further explore it in the future!\n"
   ]
  }
 ],
 "metadata": {
  "interpreter": {
   "hash": "fc5d53e7637e3e8baf8694ab88c53f7d3efb9d8bf57212e05c12ee96317501c1"
  },
  "kernelspec": {
   "display_name": "Python 3.9.5 64-bit ('apl': conda)",
   "language": "python",
   "name": "python3"
  },
  "language_info": {
   "codemirror_mode": {
    "name": "ipython",
    "version": 3
   },
   "file_extension": ".py",
   "mimetype": "text/x-python",
   "name": "python",
   "nbconvert_exporter": "python",
   "pygments_lexer": "ipython3",
   "version": "3.9.5"
  },
  "orig_nbformat": 4
 },
 "nbformat": 4,
 "nbformat_minor": 2
}
